{
 "cells": [
  {
   "cell_type": "code",
   "execution_count": 6,
   "id": "3a910e7c",
   "metadata": {},
   "outputs": [],
   "source": [
    "import pandas as pd\n",
    "import os"
   ]
  },
  {
   "cell_type": "code",
   "execution_count": 10,
   "id": "a47aa377",
   "metadata": {},
   "outputs": [
    {
     "data": {
      "text/html": [
       "<div>\n",
       "<style scoped>\n",
       "    .dataframe tbody tr th:only-of-type {\n",
       "        vertical-align: middle;\n",
       "    }\n",
       "\n",
       "    .dataframe tbody tr th {\n",
       "        vertical-align: top;\n",
       "    }\n",
       "\n",
       "    .dataframe thead th {\n",
       "        text-align: right;\n",
       "    }\n",
       "</style>\n",
       "<table border=\"1\" class=\"dataframe\">\n",
       "  <thead>\n",
       "    <tr style=\"text-align: right;\">\n",
       "      <th></th>\n",
       "      <th>student_id</th>\n",
       "      <th>student_name</th>\n",
       "      <th>grade</th>\n",
       "      <th>school_name</th>\n",
       "      <th>reading_score</th>\n",
       "      <th>math_score</th>\n",
       "      <th>school_type</th>\n",
       "    </tr>\n",
       "  </thead>\n",
       "  <tbody>\n",
       "    <tr>\n",
       "      <th>0</th>\n",
       "      <td>127008367</td>\n",
       "      <td>Sarah Douglas</td>\n",
       "      <td>11th</td>\n",
       "      <td>Chang High School</td>\n",
       "      <td>87.2</td>\n",
       "      <td>64.1</td>\n",
       "      <td>Public</td>\n",
       "    </tr>\n",
       "    <tr>\n",
       "      <th>1</th>\n",
       "      <td>33365505</td>\n",
       "      <td>Francisco Osborne</td>\n",
       "      <td>9th</td>\n",
       "      <td>Fisher High School</td>\n",
       "      <td>NaN</td>\n",
       "      <td>NaN</td>\n",
       "      <td>Public</td>\n",
       "    </tr>\n",
       "    <tr>\n",
       "      <th>2</th>\n",
       "      <td>44359500</td>\n",
       "      <td>Ryan Haas</td>\n",
       "      <td>12th</td>\n",
       "      <td>Campbell High School</td>\n",
       "      <td>91.6</td>\n",
       "      <td>54.7</td>\n",
       "      <td>Public</td>\n",
       "    </tr>\n",
       "    <tr>\n",
       "      <th>3</th>\n",
       "      <td>24791243</td>\n",
       "      <td>Kathryn Mack</td>\n",
       "      <td>11th</td>\n",
       "      <td>Richard High School</td>\n",
       "      <td>68.9</td>\n",
       "      <td>73.3</td>\n",
       "      <td>Charter</td>\n",
       "    </tr>\n",
       "    <tr>\n",
       "      <th>4</th>\n",
       "      <td>121467881</td>\n",
       "      <td>Harold Reynolds</td>\n",
       "      <td>12th</td>\n",
       "      <td>Chang High School</td>\n",
       "      <td>68.7</td>\n",
       "      <td>43.4</td>\n",
       "      <td>Public</td>\n",
       "    </tr>\n",
       "  </tbody>\n",
       "</table>\n",
       "</div>"
      ],
      "text/plain": [
       "   student_id       student_name grade           school_name  reading_score  \\\n",
       "0   127008367      Sarah Douglas  11th     Chang High School           87.2   \n",
       "1    33365505  Francisco Osborne   9th    Fisher High School            NaN   \n",
       "2    44359500          Ryan Haas  12th  Campbell High School           91.6   \n",
       "3    24791243       Kathryn Mack  11th   Richard High School           68.9   \n",
       "4   121467881    Harold Reynolds  12th     Chang High School           68.7   \n",
       "\n",
       "   math_score school_type  \n",
       "0        64.1      Public  \n",
       "1         NaN      Public  \n",
       "2        54.7      Public  \n",
       "3        73.3     Charter  \n",
       "4        43.4      Public  "
      ]
     },
     "execution_count": 10,
     "metadata": {},
     "output_type": "execute_result"
    }
   ],
   "source": [
    "student_data = os.path.join('.', 'Resources', 'new_student_data.csv')\n",
    "student_df = pd.read_csv(student_data)\n",
    "student_df.head()"
   ]
  },
  {
   "cell_type": "code",
   "execution_count": 11,
   "id": "06746f22",
   "metadata": {},
   "outputs": [
    {
     "data": {
      "text/plain": [
       "0            Sarah Douglas\n",
       "1        Francisco Osborne\n",
       "2                Ryan Haas\n",
       "3             Kathryn Mack\n",
       "4          Harold Reynolds\n",
       "               ...        \n",
       "13935          Kelly Myers\n",
       "13936       Kimberly Burke\n",
       "13937      Crystal Merritt\n",
       "13938        Misty Wiggins\n",
       "13939        Michele Jones\n",
       "Name: student_name, Length: 13940, dtype: object"
      ]
     },
     "execution_count": 11,
     "metadata": {},
     "output_type": "execute_result"
    }
   ],
   "source": [
    "student_df[\"student_name\"]"
   ]
  },
  {
   "cell_type": "code",
   "execution_count": null,
   "id": "462eb2f8",
   "metadata": {},
   "outputs": [],
   "source": []
  }
 ],
 "metadata": {
  "kernelspec": {
   "display_name": "PythonData",
   "language": "python",
   "name": "pythondata"
  },
  "language_info": {
   "codemirror_mode": {
    "name": "ipython",
    "version": 3
   },
   "file_extension": ".py",
   "mimetype": "text/x-python",
   "name": "python",
   "nbconvert_exporter": "python",
   "pygments_lexer": "ipython3",
   "version": "3.9.12"
  }
 },
 "nbformat": 4,
 "nbformat_minor": 5
}
